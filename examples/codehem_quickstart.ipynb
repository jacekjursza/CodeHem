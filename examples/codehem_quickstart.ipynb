{
  "cells": [
    {
      "cell_type": "markdown",
      "metadata": {},
      "source": [
        "# CodeHem Quickstart (Python SDK)\n\n",
        "This notebook demonstrates basic extraction, XPath queries, and safe patching using CodeHem as a library.\n\n",
        "Install (if needed): `pip install CodeHem`"
      ]
    },
    {
      "cell_type": "code",
      "execution_count": null,
      "metadata": {},
      "outputs": [],
      "source": [
        "from codehem import CodeHem, CodeElementType\n",
        "\n",
        "code = '''\\\n",
        "class Greeter:\n",
        "    def greet(self, name):\n",
        "        print(f\\\"Hello, {name}\\\")\n",
        "'''\n",
        "\n",
        "hem = CodeHem('python')\n",
        "elements = hem.extract(code)\n",
        "[(e.type.value, e.name) for e in elements.elements]"
      ]
    },
    {
      "cell_type": "markdown",
      "metadata": {},
      "source": [
        "## XPath queries\n",
        "- Find class: `Greeter`\n",
        "- Find method: `Greeter.greet`\n",
        "- Request parts: `[def]` or `[body]`"
      ]
    },
    {
      "cell_type": "code",
      "execution_count": null,
      "metadata": {},
      "outputs": [],
      "source": [
        "cls = CodeHem.filter(elements, 'Greeter')\n",
        "method_body = hem.get_text_by_xpath(code, 'Greeter.greet[body]')\n",
        "print('class:', cls.name)\n",
        "print('body:\n', method_body)"
      ]
    },
    {
      "cell_type": "markdown",
      "metadata": {},
      "source": [
        "## Safe patch (dry-run diff)\n",
        "Compute hash of the current fragment, preview a diff, then apply."
      ]
    },
    {
      "cell_type": "code",
      "execution_count": null,
      "metadata": {},
      "outputs": [],
      "source": [
        "frag_hash = hem.get_element_hash(code, 'Greeter.greet')\n",
        "new_def = '''\\\n",
        "    def greet(self, name):\n",
        "        print(f\\\"Hello, {name}!\\\")\n",
        "        return 'ok'\n",
        "'''\n",
        "diff = hem.apply_patch(code, 'Greeter.greet', new_def, original_hash=frag_hash, dry_run=True)\n",
        "print(diff.splitlines()[:10])  # show first lines"
      ]
    },
    {
      "cell_type": "markdown",
      "metadata": {},
      "source": [
        "## Convert results to JSON\n",
        "`model_dump()` (Pydantic v2) or `dict()` (v1) and exclude parser internals."
      ]
    },
    {
      "cell_type": "code",
      "execution_count": null,
      "metadata": {},
      "outputs": [],
      "source": [
        "payload = {\n",
        "  'elements': [e.model_dump(exclude={'range': {'node'}}) if hasattr(e, 'model_dump') else e.dict(exclude={'range': {'node'}}) for e in elements.elements]\n",
        "}\n",
        "payload"
      ]
    }
  ],
  "metadata": {
    "kernelspec": {
      "display_name": "Python 3",
      "language": "python",
      "name": "python3"
    },
    "language_info": {
      "name": "python",
      "version": "3"
    }
  },
  "nbformat": 4,
  "nbformat_minor": 5
}

